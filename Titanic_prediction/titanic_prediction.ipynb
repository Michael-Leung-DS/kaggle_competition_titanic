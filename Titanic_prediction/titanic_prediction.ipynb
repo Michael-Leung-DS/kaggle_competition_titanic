{
 "cells": [
  {
   "cell_type": "markdown",
   "id": "e974071e",
   "metadata": {
    "papermill": {
     "duration": 0.019189,
     "end_time": "2022-12-21T23:39:55.765579",
     "exception": false,
     "start_time": "2022-12-21T23:39:55.746390",
     "status": "completed"
    },
    "tags": []
   },
   "source": [
    "## Kaggle competition: Titanic - Machine Learning from Disaster\n",
    "\n",
    "### Michael Leung\n"
   ]
  },
  {
   "cell_type": "code",
   "execution_count": null,
   "id": "21d24272",
   "metadata": {
    "execution": {
     "iopub.execute_input": "2022-12-21T23:39:55.802581Z",
     "iopub.status.busy": "2022-12-21T23:39:55.801637Z",
     "iopub.status.idle": "2022-12-21T23:39:57.043520Z",
     "shell.execute_reply": "2022-12-21T23:39:57.042263Z"
    },
    "papermill": {
     "duration": 1.263978,
     "end_time": "2022-12-21T23:39:57.046873",
     "exception": false,
     "start_time": "2022-12-21T23:39:55.782895",
     "status": "completed"
    },
    "tags": []
   },
   "outputs": [],
   "source": [
    "# import tools for analysis\n",
    "import pandas as pd\n",
    "import numpy as np\n",
    "import seaborn as sns\n",
    "import matplotlib.pyplot as plt\n",
    "import warnings\n",
    "warnings.filterwarnings(\"ignore\")"
   ]
  },
  {
   "cell_type": "code",
   "execution_count": null,
   "id": "c28ff99f",
   "metadata": {
    "execution": {
     "iopub.execute_input": "2022-12-21T23:39:57.084055Z",
     "iopub.status.busy": "2022-12-21T23:39:57.083630Z",
     "iopub.status.idle": "2022-12-21T23:39:57.128531Z",
     "shell.execute_reply": "2022-12-21T23:39:57.127539Z"
    },
    "papermill": {
     "duration": 0.066453,
     "end_time": "2022-12-21T23:39:57.131225",
     "exception": false,
     "start_time": "2022-12-21T23:39:57.064772",
     "status": "completed"
    },
    "tags": []
   },
   "outputs": [],
   "source": [
    "# read the csv files\n",
    "train_df = pd.read_csv('data/train.csv', index_col=0)\n",
    "test_df = pd.read_csv('data/test.csv', index_col=0)"
   ]
  },
  {
   "cell_type": "markdown",
   "id": "47fe46da",
   "metadata": {
    "papermill": {
     "duration": 0.016266,
     "end_time": "2022-12-21T23:39:57.164387",
     "exception": false,
     "start_time": "2022-12-21T23:39:57.148121",
     "status": "completed"
    },
    "tags": []
   },
   "source": [
    "Let's see what's inside the three data frame"
   ]
  },
  {
   "cell_type": "code",
   "execution_count": null,
   "id": "a4342f72",
   "metadata": {
    "execution": {
     "iopub.execute_input": "2022-12-21T23:39:57.200756Z",
     "iopub.status.busy": "2022-12-21T23:39:57.199168Z",
     "iopub.status.idle": "2022-12-21T23:39:57.224141Z",
     "shell.execute_reply": "2022-12-21T23:39:57.222882Z"
    },
    "papermill": {
     "duration": 0.045813,
     "end_time": "2022-12-21T23:39:57.226993",
     "exception": false,
     "start_time": "2022-12-21T23:39:57.181180",
     "status": "completed"
    },
    "tags": []
   },
   "outputs": [],
   "source": [
    "train_df.head()"
   ]
  },
  {
   "cell_type": "code",
   "execution_count": null,
   "id": "338569d2",
   "metadata": {
    "execution": {
     "iopub.execute_input": "2022-12-21T23:39:57.263395Z",
     "iopub.status.busy": "2022-12-21T23:39:57.262582Z",
     "iopub.status.idle": "2022-12-21T23:39:57.279227Z",
     "shell.execute_reply": "2022-12-21T23:39:57.277971Z"
    },
    "papermill": {
     "duration": 0.037532,
     "end_time": "2022-12-21T23:39:57.281571",
     "exception": false,
     "start_time": "2022-12-21T23:39:57.244039",
     "status": "completed"
    },
    "tags": []
   },
   "outputs": [],
   "source": [
    "test_df.head()"
   ]
  },
  {
   "cell_type": "code",
   "execution_count": null,
   "id": "819bd68e",
   "metadata": {
    "execution": {
     "iopub.execute_input": "2022-12-21T23:39:57.373774Z",
     "iopub.status.busy": "2022-12-21T23:39:57.371959Z",
     "iopub.status.idle": "2022-12-21T23:39:57.381103Z",
     "shell.execute_reply": "2022-12-21T23:39:57.379777Z"
    },
    "papermill": {
     "duration": 0.037296,
     "end_time": "2022-12-21T23:39:57.385079",
     "exception": false,
     "start_time": "2022-12-21T23:39:57.347783",
     "status": "completed"
    },
    "tags": []
   },
   "outputs": [],
   "source": [
    "# see the size of train dataset\n",
    "train_df.shape"
   ]
  },
  {
   "cell_type": "code",
   "execution_count": null,
   "id": "8302cdd0",
   "metadata": {
    "execution": {
     "iopub.execute_input": "2022-12-21T23:39:57.426733Z",
     "iopub.status.busy": "2022-12-21T23:39:57.425745Z",
     "iopub.status.idle": "2022-12-21T23:39:57.449025Z",
     "shell.execute_reply": "2022-12-21T23:39:57.447903Z"
    },
    "papermill": {
     "duration": 0.047697,
     "end_time": "2022-12-21T23:39:57.452902",
     "exception": false,
     "start_time": "2022-12-21T23:39:57.405205",
     "status": "completed"
    },
    "tags": []
   },
   "outputs": [],
   "source": [
    "# see the data type of each column\n",
    "train_df.info()"
   ]
  },
  {
   "cell_type": "code",
   "execution_count": null,
   "id": "a26e5402",
   "metadata": {
    "execution": {
     "iopub.execute_input": "2022-12-21T23:39:57.492585Z",
     "iopub.status.busy": "2022-12-21T23:39:57.492146Z",
     "iopub.status.idle": "2022-12-21T23:39:57.500131Z",
     "shell.execute_reply": "2022-12-21T23:39:57.498670Z"
    },
    "papermill": {
     "duration": 0.029816,
     "end_time": "2022-12-21T23:39:57.502563",
     "exception": false,
     "start_time": "2022-12-21T23:39:57.472747",
     "status": "completed"
    },
    "tags": []
   },
   "outputs": [],
   "source": [
    "# see how many unique values in the Sex column\n",
    "print(train_df['Sex'].unique())\n",
    "print(test_df['Sex'].unique())"
   ]
  },
  {
   "cell_type": "markdown",
   "id": "dfbf22d7",
   "metadata": {
    "papermill": {
     "duration": 0.017246,
     "end_time": "2022-12-21T23:39:57.537755",
     "exception": false,
     "start_time": "2022-12-21T23:39:57.520509",
     "status": "completed"
    },
    "tags": []
   },
   "source": [
    "For the `Sex` column, it can be turned into binary columns."
   ]
  },
  {
   "cell_type": "code",
   "execution_count": null,
   "id": "0834a772",
   "metadata": {
    "execution": {
     "iopub.execute_input": "2022-12-21T23:39:57.575679Z",
     "iopub.status.busy": "2022-12-21T23:39:57.574921Z",
     "iopub.status.idle": "2022-12-21T23:39:57.583150Z",
     "shell.execute_reply": "2022-12-21T23:39:57.581616Z"
    },
    "papermill": {
     "duration": 0.029832,
     "end_time": "2022-12-21T23:39:57.585530",
     "exception": false,
     "start_time": "2022-12-21T23:39:57.555698",
     "status": "completed"
    },
    "tags": []
   },
   "outputs": [],
   "source": [
    "train_df['Sex'] = np.where(train_df['Sex'] == 'male', 1,0)\n",
    "test_df['Sex'] = np.where(test_df['Sex'] == 'male', 1,0)"
   ]
  },
  {
   "cell_type": "markdown",
   "id": "d2b2de0a",
   "metadata": {
    "execution": {
     "iopub.execute_input": "2022-12-21T22:56:06.898003Z",
     "iopub.status.busy": "2022-12-21T22:56:06.897646Z",
     "iopub.status.idle": "2022-12-21T22:56:06.904704Z",
     "shell.execute_reply": "2022-12-21T22:56:06.903173Z",
     "shell.execute_reply.started": "2022-12-21T22:56:06.897975Z"
    },
    "papermill": {
     "duration": 0.017415,
     "end_time": "2022-12-21T23:39:57.620982",
     "exception": false,
     "start_time": "2022-12-21T23:39:57.603567",
     "status": "completed"
    },
    "tags": []
   },
   "source": [
    "Let's see `Pclass` has how many unique values."
   ]
  },
  {
   "cell_type": "code",
   "execution_count": null,
   "id": "d9001603",
   "metadata": {
    "execution": {
     "iopub.execute_input": "2022-12-21T23:39:57.658300Z",
     "iopub.status.busy": "2022-12-21T23:39:57.657837Z",
     "iopub.status.idle": "2022-12-21T23:39:57.668017Z",
     "shell.execute_reply": "2022-12-21T23:39:57.666551Z"
    },
    "papermill": {
     "duration": 0.031927,
     "end_time": "2022-12-21T23:39:57.670439",
     "exception": false,
     "start_time": "2022-12-21T23:39:57.638512",
     "status": "completed"
    },
    "tags": []
   },
   "outputs": [],
   "source": [
    "print(train_df['Pclass'].unique())\n",
    "print(test_df['Pclass'].unique())"
   ]
  },
  {
   "cell_type": "markdown",
   "id": "e0f5bf86",
   "metadata": {
    "papermill": {
     "duration": 0.017721,
     "end_time": "2022-12-21T23:39:57.705959",
     "exception": false,
     "start_time": "2022-12-21T23:39:57.688238",
     "status": "completed"
    },
    "tags": []
   },
   "source": [
    "We can turn the `Pclass` columns to dummy variables for modeling."
   ]
  },
  {
   "cell_type": "code",
   "execution_count": null,
   "id": "76551783",
   "metadata": {
    "execution": {
     "iopub.execute_input": "2022-12-21T23:39:57.743156Z",
     "iopub.status.busy": "2022-12-21T23:39:57.742748Z",
     "iopub.status.idle": "2022-12-21T23:39:57.750211Z",
     "shell.execute_reply": "2022-12-21T23:39:57.749032Z"
    },
    "papermill": {
     "duration": 0.02912,
     "end_time": "2022-12-21T23:39:57.752759",
     "exception": false,
     "start_time": "2022-12-21T23:39:57.723639",
     "status": "completed"
    },
    "tags": []
   },
   "outputs": [],
   "source": [
    "# make Pclass to dummy variables\n",
    "pclass_dum_train = pd.get_dummies(train_df['Pclass'])\n",
    "pclass_dum_test = pd.get_dummies(test_df['Pclass'])"
   ]
  },
  {
   "cell_type": "code",
   "execution_count": null,
   "id": "d6dc5852",
   "metadata": {
    "execution": {
     "iopub.execute_input": "2022-12-21T23:39:57.790830Z",
     "iopub.status.busy": "2022-12-21T23:39:57.790346Z",
     "iopub.status.idle": "2022-12-21T23:39:57.801366Z",
     "shell.execute_reply": "2022-12-21T23:39:57.800039Z"
    },
    "papermill": {
     "duration": 0.033071,
     "end_time": "2022-12-21T23:39:57.803984",
     "exception": false,
     "start_time": "2022-12-21T23:39:57.770913",
     "status": "completed"
    },
    "tags": []
   },
   "outputs": [],
   "source": [
    "# concat the dummy variables to the original data frame\n",
    "train_df = pd.concat([train_df,pclass_dum_train],axis=1)\n",
    "test_df = pd.concat([test_df,pclass_dum_test],axis=1)"
   ]
  },
  {
   "cell_type": "markdown",
   "id": "274e52c3",
   "metadata": {
    "papermill": {
     "duration": 0.017966,
     "end_time": "2022-12-21T23:39:57.840734",
     "exception": false,
     "start_time": "2022-12-21T23:39:57.822768",
     "status": "completed"
    },
    "tags": []
   },
   "source": [
    "Let's see the unique values of the `Embarked` column."
   ]
  },
  {
   "cell_type": "code",
   "execution_count": null,
   "id": "bc2990cb",
   "metadata": {
    "execution": {
     "iopub.execute_input": "2022-12-21T23:39:57.879383Z",
     "iopub.status.busy": "2022-12-21T23:39:57.878974Z",
     "iopub.status.idle": "2022-12-21T23:39:57.887168Z",
     "shell.execute_reply": "2022-12-21T23:39:57.885584Z"
    },
    "papermill": {
     "duration": 0.030925,
     "end_time": "2022-12-21T23:39:57.890146",
     "exception": false,
     "start_time": "2022-12-21T23:39:57.859221",
     "status": "completed"
    },
    "tags": []
   },
   "outputs": [],
   "source": [
    "print(train_df['Embarked'].unique())\n",
    "print(test_df['Embarked'].unique())"
   ]
  },
  {
   "cell_type": "code",
   "execution_count": null,
   "id": "e5f2897c",
   "metadata": {
    "execution": {
     "iopub.execute_input": "2022-12-21T23:39:57.929042Z",
     "iopub.status.busy": "2022-12-21T23:39:57.928242Z",
     "iopub.status.idle": "2022-12-21T23:39:57.934885Z",
     "shell.execute_reply": "2022-12-21T23:39:57.933946Z"
    },
    "papermill": {
     "duration": 0.028316,
     "end_time": "2022-12-21T23:39:57.937006",
     "exception": false,
     "start_time": "2022-12-21T23:39:57.908690",
     "status": "completed"
    },
    "tags": []
   },
   "outputs": [],
   "source": [
    "# turn nan values to unknown(N)\n",
    "train_df['Embarked'].fillna('N', inplace=True)\n",
    "test_df['Embarked'].fillna('N', inplace=True)"
   ]
  },
  {
   "cell_type": "markdown",
   "id": "872de41a",
   "metadata": {
    "papermill": {
     "duration": 0.018153,
     "end_time": "2022-12-21T23:39:57.973102",
     "exception": false,
     "start_time": "2022-12-21T23:39:57.954949",
     "status": "completed"
    },
    "tags": []
   },
   "source": [
    "Same as `Pclass`, the `Embarked` column can be also turned to dummy variables."
   ]
  },
  {
   "cell_type": "code",
   "execution_count": null,
   "id": "ebb13793",
   "metadata": {
    "execution": {
     "iopub.execute_input": "2022-12-21T23:39:58.012488Z",
     "iopub.status.busy": "2022-12-21T23:39:58.012071Z",
     "iopub.status.idle": "2022-12-21T23:39:58.021201Z",
     "shell.execute_reply": "2022-12-21T23:39:58.019728Z"
    },
    "papermill": {
     "duration": 0.03296,
     "end_time": "2022-12-21T23:39:58.024371",
     "exception": false,
     "start_time": "2022-12-21T23:39:57.991411",
     "status": "completed"
    },
    "tags": []
   },
   "outputs": [],
   "source": [
    "# turn Pclass to dummy variables\n",
    "embarked_dum_train = pd.get_dummies(train_df['Embarked'])\n",
    "embarked_dum_test = pd.get_dummies(test_df['Embarked'])\n",
    "# concat data frames\n",
    "train_df = pd.concat([train_df,embarked_dum_train],axis=1)\n",
    "test_df = pd.concat([test_df,embarked_dum_test],axis=1)"
   ]
  },
  {
   "cell_type": "code",
   "execution_count": null,
   "id": "71e84318",
   "metadata": {
    "execution": {
     "iopub.execute_input": "2022-12-21T23:39:58.063231Z",
     "iopub.status.busy": "2022-12-21T23:39:58.062506Z",
     "iopub.status.idle": "2022-12-21T23:39:58.072555Z",
     "shell.execute_reply": "2022-12-21T23:39:58.071349Z"
    },
    "papermill": {
     "duration": 0.032372,
     "end_time": "2022-12-21T23:39:58.075005",
     "exception": false,
     "start_time": "2022-12-21T23:39:58.042633",
     "status": "completed"
    },
    "tags": []
   },
   "outputs": [],
   "source": [
    "# let's see the unique values of ticket column\n",
    "train_df['Ticket'].unique()"
   ]
  },
  {
   "cell_type": "code",
   "execution_count": null,
   "id": "d10d76cb",
   "metadata": {
    "execution": {
     "iopub.execute_input": "2022-12-21T23:39:58.113753Z",
     "iopub.status.busy": "2022-12-21T23:39:58.113123Z",
     "iopub.status.idle": "2022-12-21T23:39:58.120933Z",
     "shell.execute_reply": "2022-12-21T23:39:58.119809Z"
    },
    "papermill": {
     "duration": 0.029984,
     "end_time": "2022-12-21T23:39:58.123326",
     "exception": false,
     "start_time": "2022-12-21T23:39:58.093342",
     "status": "completed"
    },
    "tags": []
   },
   "outputs": [],
   "source": [
    "# let's see the unique values of cabin column\n",
    "train_df['Cabin'].unique()"
   ]
  },
  {
   "cell_type": "code",
   "execution_count": null,
   "id": "841749ed",
   "metadata": {
    "execution": {
     "iopub.execute_input": "2022-12-21T23:39:58.163840Z",
     "iopub.status.busy": "2022-12-21T23:39:58.163163Z",
     "iopub.status.idle": "2022-12-21T23:39:58.176588Z",
     "shell.execute_reply": "2022-12-21T23:39:58.175388Z"
    },
    "papermill": {
     "duration": 0.036931,
     "end_time": "2022-12-21T23:39:58.179401",
     "exception": false,
     "start_time": "2022-12-21T23:39:58.142470",
     "status": "completed"
    },
    "tags": []
   },
   "outputs": [],
   "source": [
    "# see if there missing vlaues of each column\n",
    "train_df.isna().sum()"
   ]
  },
  {
   "cell_type": "code",
   "execution_count": null,
   "id": "d182937b",
   "metadata": {
    "execution": {
     "iopub.execute_input": "2022-12-21T23:39:58.219141Z",
     "iopub.status.busy": "2022-12-21T23:39:58.218669Z",
     "iopub.status.idle": "2022-12-21T23:39:58.231531Z",
     "shell.execute_reply": "2022-12-21T23:39:58.230155Z"
    },
    "papermill": {
     "duration": 0.035555,
     "end_time": "2022-12-21T23:39:58.234292",
     "exception": false,
     "start_time": "2022-12-21T23:39:58.198737",
     "status": "completed"
    },
    "tags": []
   },
   "outputs": [],
   "source": [
    "test_df.isna().sum()"
   ]
  },
  {
   "cell_type": "code",
   "execution_count": null,
   "id": "05096700",
   "metadata": {
    "execution": {
     "iopub.execute_input": "2022-12-21T23:39:58.274539Z",
     "iopub.status.busy": "2022-12-21T23:39:58.273753Z",
     "iopub.status.idle": "2022-12-21T23:39:58.293002Z",
     "shell.execute_reply": "2022-12-21T23:39:58.291825Z"
    },
    "papermill": {
     "duration": 0.042242,
     "end_time": "2022-12-21T23:39:58.295543",
     "exception": false,
     "start_time": "2022-12-21T23:39:58.253301",
     "status": "completed"
    },
    "tags": []
   },
   "outputs": [],
   "source": [
    "# see the row with missing value on Fare\n",
    "test_df[test_df['Fare'].isna()]"
   ]
  },
  {
   "cell_type": "markdown",
   "id": "2ef42ab0",
   "metadata": {
    "execution": {
     "iopub.execute_input": "2022-12-21T23:02:02.618547Z",
     "iopub.status.busy": "2022-12-21T23:02:02.617641Z",
     "iopub.status.idle": "2022-12-21T23:02:02.625924Z",
     "shell.execute_reply": "2022-12-21T23:02:02.624270Z",
     "shell.execute_reply.started": "2022-12-21T23:02:02.618505Z"
    },
    "papermill": {
     "duration": 0.018667,
     "end_time": "2022-12-21T23:39:58.333372",
     "exception": false,
     "start_time": "2022-12-21T23:39:58.314705",
     "status": "completed"
    },
    "tags": []
   },
   "source": [
    "There are some missing values on the Age and Cabin columns for the train and test set, I may try to fill those in during the EDA. Also, the test set also has 1 missing value on the Fare, I will fill it in with the average fare of the third class."
   ]
  },
  {
   "cell_type": "code",
   "execution_count": null,
   "id": "5763adf1",
   "metadata": {
    "execution": {
     "iopub.execute_input": "2022-12-21T23:39:58.373428Z",
     "iopub.status.busy": "2022-12-21T23:39:58.373008Z",
     "iopub.status.idle": "2022-12-21T23:39:58.382590Z",
     "shell.execute_reply": "2022-12-21T23:39:58.380831Z"
    },
    "papermill": {
     "duration": 0.033814,
     "end_time": "2022-12-21T23:39:58.386095",
     "exception": false,
     "start_time": "2022-12-21T23:39:58.352281",
     "status": "completed"
    },
    "tags": []
   },
   "outputs": [],
   "source": [
    "test_df['Fare'].fillna(test_df[test_df['Pclass']==3]['Fare'].mean(),inplace=True)"
   ]
  },
  {
   "cell_type": "markdown",
   "id": "68412dda",
   "metadata": {
    "execution": {
     "iopub.execute_input": "2022-12-21T23:02:23.599597Z",
     "iopub.status.busy": "2022-12-21T23:02:23.599226Z",
     "iopub.status.idle": "2022-12-21T23:02:23.604100Z",
     "shell.execute_reply": "2022-12-21T23:02:23.603260Z",
     "shell.execute_reply.started": "2022-12-21T23:02:23.599566Z"
    },
    "papermill": {
     "duration": 0.024835,
     "end_time": "2022-12-21T23:39:58.433730",
     "exception": false,
     "start_time": "2022-12-21T23:39:58.408895",
     "status": "completed"
    },
    "tags": []
   },
   "source": [
    "### EDA"
   ]
  },
  {
   "cell_type": "code",
   "execution_count": null,
   "id": "3ed31a31",
   "metadata": {
    "execution": {
     "iopub.execute_input": "2022-12-21T23:39:58.483431Z",
     "iopub.status.busy": "2022-12-21T23:39:58.482903Z",
     "iopub.status.idle": "2022-12-21T23:39:58.495607Z",
     "shell.execute_reply": "2022-12-21T23:39:58.494424Z"
    },
    "papermill": {
     "duration": 0.042687,
     "end_time": "2022-12-21T23:39:58.498405",
     "exception": false,
     "start_time": "2022-12-21T23:39:58.455718",
     "status": "completed"
    },
    "tags": []
   },
   "outputs": [],
   "source": [
    "# see how many passenger survived\n",
    "train_df.groupby('Survived')['Survived'].count()"
   ]
  },
  {
   "cell_type": "markdown",
   "id": "672c5f3b",
   "metadata": {
    "papermill": {
     "duration": 0.019942,
     "end_time": "2022-12-21T23:39:58.538664",
     "exception": false,
     "start_time": "2022-12-21T23:39:58.518722",
     "status": "completed"
    },
    "tags": []
   },
   "source": [
    "Let see the relationship of each column against the Survived column, I will start with Pclass column."
   ]
  },
  {
   "cell_type": "code",
   "execution_count": null,
   "id": "4c017211",
   "metadata": {
    "execution": {
     "iopub.execute_input": "2022-12-21T23:39:58.580743Z",
     "iopub.status.busy": "2022-12-21T23:39:58.580314Z",
     "iopub.status.idle": "2022-12-21T23:39:58.860511Z",
     "shell.execute_reply": "2022-12-21T23:39:58.858835Z"
    },
    "papermill": {
     "duration": 0.306245,
     "end_time": "2022-12-21T23:39:58.865106",
     "exception": false,
     "start_time": "2022-12-21T23:39:58.558861",
     "status": "completed"
    },
    "tags": []
   },
   "outputs": [],
   "source": [
    "# plot the survival rate of different classes\n",
    "plt.subplots(3,1,figsize=(10,10))\n",
    "\n",
    "plt.subplot(3,1,1)\n",
    "\n",
    "plt.pie(train_df[train_df['Pclass']==1].groupby('Survived')['Survived'].count(),labels=train_df['Survived'].unique(),autopct='%.2f')\n",
    "plt.title('Survival percentage of first class')\n",
    "\n",
    "plt.subplot(3,1,2)\n",
    "plt.pie(train_df[train_df['Pclass']==2].groupby('Survived')['Survived'].count(),labels=train_df['Survived'].unique(),autopct='%.2f')\n",
    "plt.title('Survival percentage of secoond class')\n",
    "\n",
    "plt.subplot(3,1,3)\n",
    "plt.pie(train_df[train_df['Pclass']==3].groupby('Survived')['Survived'].count(),labels=train_df['Survived'].unique(),autopct='%.2f')\n",
    "plt.title('Survival percentage of third class')\n",
    "\n",
    "plt.show();"
   ]
  },
  {
   "cell_type": "markdown",
   "id": "357ff424",
   "metadata": {
    "execution": {
     "iopub.execute_input": "2022-12-21T23:02:55.380354Z",
     "iopub.status.busy": "2022-12-21T23:02:55.380017Z",
     "iopub.status.idle": "2022-12-21T23:02:55.388873Z",
     "shell.execute_reply": "2022-12-21T23:02:55.387714Z",
     "shell.execute_reply.started": "2022-12-21T23:02:55.380325Z"
    },
    "papermill": {
     "duration": 0.019349,
     "end_time": "2022-12-21T23:39:58.934813",
     "exception": false,
     "start_time": "2022-12-21T23:39:58.915464",
     "status": "completed"
    },
    "tags": []
   },
   "source": [
    "Seems the higher the class, the higher survival rate in the dataset.\n",
    "\n",
    "Let's plot some pie chart to see the survival rate against gender."
   ]
  },
  {
   "cell_type": "code",
   "execution_count": null,
   "id": "e6de0c55",
   "metadata": {
    "execution": {
     "iopub.execute_input": "2022-12-21T23:39:58.977019Z",
     "iopub.status.busy": "2022-12-21T23:39:58.976182Z",
     "iopub.status.idle": "2022-12-21T23:39:59.162503Z",
     "shell.execute_reply": "2022-12-21T23:39:59.160809Z"
    },
    "papermill": {
     "duration": 0.212169,
     "end_time": "2022-12-21T23:39:59.167043",
     "exception": false,
     "start_time": "2022-12-21T23:39:58.954874",
     "status": "completed"
    },
    "tags": []
   },
   "outputs": [],
   "source": [
    "plt.subplots(1,2)\n",
    "\n",
    "plt.subplot(1,2, 1)\n",
    "\n",
    "plt.pie(train_df[train_df['Sex']==1].groupby('Survived')['Survived'].count(),labels=train_df['Survived'].unique(),autopct='%.2f')\n",
    "plt.title('Survival percentage of male')\n",
    "\n",
    "plt.subplot(1, 2, 2)\n",
    "plt.pie(train_df[train_df['Sex']==0].groupby('Survived')['Survived'].count(),labels=train_df['Survived'].unique(),autopct='%.2f')\n",
    "plt.title('Survival percentage of female')\n",
    "plt.show()"
   ]
  },
  {
   "cell_type": "markdown",
   "id": "168502cf",
   "metadata": {
    "papermill": {
     "duration": 0.021951,
     "end_time": "2022-12-21T23:39:59.241607",
     "exception": false,
     "start_time": "2022-12-21T23:39:59.219656",
     "status": "completed"
    },
    "tags": []
   },
   "source": [
    "Over 80% male were dead and around a quarter of female were dead in Titanic. Seems female have higher survival rate in the accident.\n",
    "\n",
    "Let's plot a graph for Age"
   ]
  },
  {
   "cell_type": "code",
   "execution_count": null,
   "id": "efccd8d4",
   "metadata": {
    "execution": {
     "iopub.execute_input": "2022-12-21T23:39:59.283062Z",
     "iopub.status.busy": "2022-12-21T23:39:59.282271Z",
     "iopub.status.idle": "2022-12-21T23:40:00.131602Z",
     "shell.execute_reply": "2022-12-21T23:40:00.130239Z"
    },
    "papermill": {
     "duration": 0.873331,
     "end_time": "2022-12-21T23:40:00.134516",
     "exception": false,
     "start_time": "2022-12-21T23:39:59.261185",
     "status": "completed"
    },
    "tags": []
   },
   "outputs": [],
   "source": [
    "# plot two bar chart to see if there are difference between the age of the survived and dead passangers\n",
    "plt.subplots(1,2, figsize=(15,5))\n",
    "plt.subplot(1,2,1)\n",
    "\n",
    "sns.histplot(data=train_df[train_df['Survived']==1]['Age'], x=train_df[train_df['Survived']==1]['Age'],bins=80)\n",
    "plt.axvline(train_df[train_df['Survived']==1]['Age'].mean(),color='red', label= 'average')\n",
    "plt.title(\"Survived passanger's age\")\n",
    "plt.legend()\n",
    "\n",
    "plt.subplot(1,2,2)\n",
    "sns.histplot(data=train_df[train_df['Survived']==0]['Age'], x=train_df[train_df['Survived']==0]['Age'],bins=80)\n",
    "plt.axvline(train_df[train_df['Survived']==0]['Age'].mean(),color='red',label= 'average')\n",
    "plt.title(\"Dead passanger's age\")\n",
    "plt.legend()\n",
    "\n",
    "plt.show()"
   ]
  },
  {
   "cell_type": "markdown",
   "id": "ce09055b",
   "metadata": {
    "papermill": {
     "duration": 0.025205,
     "end_time": "2022-12-21T23:40:00.181020",
     "exception": false,
     "start_time": "2022-12-21T23:40:00.155815",
     "status": "completed"
    },
    "tags": []
   },
   "source": [
    "The distribution of the survived passanger is bimodal distributed(the first peak is age = 0 and the second is around 25) and the distribution of dead passangers seems nearly normally distributed. The difference between the average age of the survived and dead passangers is around 1 to 2 years.\n",
    "\n",
    "Next, I will plot a graph for SibSp"
   ]
  },
  {
   "cell_type": "code",
   "execution_count": null,
   "id": "b20493b5",
   "metadata": {
    "execution": {
     "iopub.execute_input": "2022-12-21T23:40:00.227161Z",
     "iopub.status.busy": "2022-12-21T23:40:00.226341Z",
     "iopub.status.idle": "2022-12-21T23:40:00.614990Z",
     "shell.execute_reply": "2022-12-21T23:40:00.614035Z"
    },
    "papermill": {
     "duration": 0.414292,
     "end_time": "2022-12-21T23:40:00.617351",
     "exception": false,
     "start_time": "2022-12-21T23:40:00.203059",
     "status": "completed"
    },
    "tags": []
   },
   "outputs": [],
   "source": [
    "plt.subplots(1,2, figsize=(15,5))\n",
    "plt.subplot(1,2,1)\n",
    "\n",
    "plt.bar(height=train_df[train_df['Survived']==1].groupby('SibSp')['SibSp'].count(), x=train_df[train_df['Survived']==1].groupby('SibSp')['SibSp'].unique())\n",
    "plt.title(\"Survived passanger's number of siblings / spouses aboard the Titanic\")\n",
    "\n",
    "\n",
    "plt.subplot(1,2,2)\n",
    "plt.bar(height=train_df[train_df['Survived']==0].groupby('SibSp')['SibSp'].count(), x=train_df[train_df['Survived']==0].groupby('SibSp')['SibSp'].unique())\n",
    "plt.title(\"Dead passanger's number of siblings / spouses \")\n",
    "\n",
    "plt.show()"
   ]
  },
  {
   "cell_type": "markdown",
   "id": "2f6ba729",
   "metadata": {
    "papermill": {
     "duration": 0.021169,
     "end_time": "2022-12-21T23:40:00.660326",
     "exception": false,
     "start_time": "2022-12-21T23:40:00.639157",
     "status": "completed"
    },
    "tags": []
   },
   "source": [
    "The distribution of passanger's number of siblings / spouses aboard the Titanic between survived and dead passangers are likely the same, which most of the passangers have 0 or 1 siblings / spouses aboard the Titanic.\n",
    "\n",
    "Next, I will plot a graph for Parch"
   ]
  },
  {
   "cell_type": "code",
   "execution_count": null,
   "id": "153f06fe",
   "metadata": {
    "execution": {
     "iopub.execute_input": "2022-12-21T23:40:00.704923Z",
     "iopub.status.busy": "2022-12-21T23:40:00.704135Z",
     "iopub.status.idle": "2022-12-21T23:40:01.045895Z",
     "shell.execute_reply": "2022-12-21T23:40:01.044442Z"
    },
    "papermill": {
     "duration": 0.368935,
     "end_time": "2022-12-21T23:40:01.049988",
     "exception": false,
     "start_time": "2022-12-21T23:40:00.681053",
     "status": "completed"
    },
    "tags": []
   },
   "outputs": [],
   "source": [
    "plt.subplots(1,2, figsize=(15,5))\n",
    "plt.subplot(1,2,1)\n",
    "\n",
    "plt.bar(height=train_df[train_df['Survived']==1].groupby('Parch')['Parch'].count(), x=train_df[train_df['Survived']==1].groupby('Parch')['Parch'].unique())\n",
    "plt.title(\"Survived passanger's number of parents / children aboard the Titanic\")\n",
    "\n",
    "\n",
    "plt.subplot(1,2,2)\n",
    "plt.bar(height=train_df[train_df['Survived']==0].groupby('Parch')['Parch'].count(), x=train_df[train_df['Survived']==0].groupby('Parch')['Parch'].unique())\n",
    "plt.title(\"Dead passanger's number of parents / children aboard the Titanic\")\n",
    "\n",
    "\n",
    "plt.show()"
   ]
  },
  {
   "cell_type": "markdown",
   "id": "45297e95",
   "metadata": {
    "papermill": {
     "duration": 0.020977,
     "end_time": "2022-12-21T23:40:01.093443",
     "exception": false,
     "start_time": "2022-12-21T23:40:01.072466",
     "status": "completed"
    },
    "tags": []
   },
   "source": [
    "The distribution of passanger's number of parents / children aboard the Titanic between survived and dead passangers are likely the same, which most of the passangers have 0 to 2 parents / children aboard the Titanic.\n",
    "\n",
    "Let's look at the Fare column."
   ]
  },
  {
   "cell_type": "code",
   "execution_count": null,
   "id": "d7281579",
   "metadata": {
    "execution": {
     "iopub.execute_input": "2022-12-21T23:40:01.137941Z",
     "iopub.status.busy": "2022-12-21T23:40:01.137128Z",
     "iopub.status.idle": "2022-12-21T23:40:01.431006Z",
     "shell.execute_reply": "2022-12-21T23:40:01.429741Z"
    },
    "papermill": {
     "duration": 0.319211,
     "end_time": "2022-12-21T23:40:01.433762",
     "exception": false,
     "start_time": "2022-12-21T23:40:01.114551",
     "status": "completed"
    },
    "tags": []
   },
   "outputs": [],
   "source": [
    "plt.figure()\n",
    "\n",
    "plt.scatter(x=train_df['Fare'], y = train_df['Survived'])\n",
    "plt.scatter(train_df[train_df['Survived']==1]['Fare'].mean(),1, label='average fee of survived passangers', color= 'yellow')\n",
    "plt.scatter(train_df[train_df['Survived']==0]['Fare'].mean(),0, label='average fee of dead passangers',color= 'red')\n",
    "plt.title(\"Survived passanger's number of parents / children aboard the Titanic\")\n",
    "plt.legend()\n",
    "plt.show()"
   ]
  },
  {
   "cell_type": "code",
   "execution_count": null,
   "id": "4ace286a",
   "metadata": {
    "execution": {
     "iopub.execute_input": "2022-12-21T23:40:01.479228Z",
     "iopub.status.busy": "2022-12-21T23:40:01.478490Z",
     "iopub.status.idle": "2022-12-21T23:40:01.487535Z",
     "shell.execute_reply": "2022-12-21T23:40:01.486334Z"
    },
    "papermill": {
     "duration": 0.034147,
     "end_time": "2022-12-21T23:40:01.489973",
     "exception": false,
     "start_time": "2022-12-21T23:40:01.455826",
     "status": "completed"
    },
    "tags": []
   },
   "outputs": [],
   "source": [
    "train_df[train_df['Survived']==1]['Fare'].mean()"
   ]
  },
  {
   "cell_type": "code",
   "execution_count": null,
   "id": "6c114935",
   "metadata": {
    "execution": {
     "iopub.execute_input": "2022-12-21T23:40:01.535330Z",
     "iopub.status.busy": "2022-12-21T23:40:01.534601Z",
     "iopub.status.idle": "2022-12-21T23:40:01.543918Z",
     "shell.execute_reply": "2022-12-21T23:40:01.542470Z"
    },
    "papermill": {
     "duration": 0.035427,
     "end_time": "2022-12-21T23:40:01.546661",
     "exception": false,
     "start_time": "2022-12-21T23:40:01.511234",
     "status": "completed"
    },
    "tags": []
   },
   "outputs": [],
   "source": [
    "train_df[train_df['Survived']==0]['Fare'].mean()"
   ]
  },
  {
   "cell_type": "markdown",
   "id": "67a0dc87",
   "metadata": {
    "papermill": {
     "duration": 0.021745,
     "end_time": "2022-12-21T23:40:01.589982",
     "exception": false,
     "start_time": "2022-12-21T23:40:01.568237",
     "status": "completed"
    },
    "tags": []
   },
   "source": [
    "Seems the survived passangers paid more in average in the ship fee.\n",
    "\n",
    "Let's look at the survival rate of different embarked port."
   ]
  },
  {
   "cell_type": "code",
   "execution_count": null,
   "id": "aa80ea45",
   "metadata": {
    "execution": {
     "iopub.execute_input": "2022-12-21T23:40:01.635030Z",
     "iopub.status.busy": "2022-12-21T23:40:01.633543Z",
     "iopub.status.idle": "2022-12-21T23:40:02.002496Z",
     "shell.execute_reply": "2022-12-21T23:40:02.001170Z"
    },
    "papermill": {
     "duration": 0.394132,
     "end_time": "2022-12-21T23:40:02.005269",
     "exception": false,
     "start_time": "2022-12-21T23:40:01.611137",
     "status": "completed"
    },
    "tags": []
   },
   "outputs": [],
   "source": [
    "plt.subplots(2,2, figsize=(15,10))\n",
    "\n",
    "plt.subplot(2,2,1)\n",
    "plt.pie(train_df[train_df['Embarked']=='C'].groupby('Survived')['Survived'].count(), labels=train_df[train_df['Embarked']=='C']['Survived'].unique(),autopct='%.2f')\n",
    "plt.title('Passangers embarked from C')\n",
    "\n",
    "plt.subplot(2,2,2)\n",
    "plt.pie(train_df[train_df['Embarked']=='S'].groupby('Survived')['Survived'].count(), labels=train_df[train_df['Embarked']=='S']['Survived'].unique(),autopct='%.2f')\n",
    "plt.title('Passangers embarked from S')\n",
    "\n",
    "plt.subplot(2,2,3)\n",
    "plt.pie(train_df[train_df['Embarked']=='Q'].groupby('Survived')['Survived'].count(), labels=train_df[train_df['Embarked']=='Q']['Survived'].unique(),autopct='%.2f')\n",
    "plt.title('Passangers embarked from Q')\n",
    "\n",
    "plt.subplot(2,2,4)\n",
    "plt.pie(train_df[train_df['Embarked']=='N'].groupby('Survived')['Survived'].count(), labels=train_df[train_df['Embarked']=='N']['Survived'].unique(),autopct='%.2f')\n",
    "plt.title('Passangers embarked from unknown')\n",
    "\n",
    "plt.show()"
   ]
  },
  {
   "cell_type": "markdown",
   "id": "6bb8064d",
   "metadata": {
    "execution": {
     "iopub.execute_input": "2022-12-21T23:05:55.486459Z",
     "iopub.status.busy": "2022-12-21T23:05:55.486093Z",
     "iopub.status.idle": "2022-12-21T23:05:55.494219Z",
     "shell.execute_reply": "2022-12-21T23:05:55.492215Z",
     "shell.execute_reply.started": "2022-12-21T23:05:55.486434Z"
    },
    "papermill": {
     "duration": 0.02154,
     "end_time": "2022-12-21T23:40:02.048839",
     "exception": false,
     "start_time": "2022-12-21T23:40:02.027299",
     "status": "completed"
    },
    "tags": []
   },
   "source": [
    "Seems the passangers departed from port C has a higher survival rate than port S and Q(For unknow port, it only has passangers, which the sample size is too small to determine the survival rate)."
   ]
  },
  {
   "cell_type": "markdown",
   "id": "4d68b442",
   "metadata": {
    "papermill": {
     "duration": 0.021335,
     "end_time": "2022-12-21T23:40:02.092579",
     "exception": false,
     "start_time": "2022-12-21T23:40:02.071244",
     "status": "completed"
    },
    "tags": []
   },
   "source": [
    "### Deal with missing data\n",
    "\n",
    "Before modeling, I have to deal with the missing data."
   ]
  },
  {
   "cell_type": "code",
   "execution_count": null,
   "id": "8b293add",
   "metadata": {
    "execution": {
     "iopub.execute_input": "2022-12-21T23:40:02.137924Z",
     "iopub.status.busy": "2022-12-21T23:40:02.137478Z",
     "iopub.status.idle": "2022-12-21T23:40:02.148752Z",
     "shell.execute_reply": "2022-12-21T23:40:02.147535Z"
    },
    "papermill": {
     "duration": 0.036673,
     "end_time": "2022-12-21T23:40:02.151068",
     "exception": false,
     "start_time": "2022-12-21T23:40:02.114395",
     "status": "completed"
    },
    "tags": []
   },
   "outputs": [],
   "source": [
    "train_df.isna().sum()"
   ]
  },
  {
   "cell_type": "code",
   "execution_count": null,
   "id": "eccb5685",
   "metadata": {
    "execution": {
     "iopub.execute_input": "2022-12-21T23:40:02.197914Z",
     "iopub.status.busy": "2022-12-21T23:40:02.197189Z",
     "iopub.status.idle": "2022-12-21T23:40:02.206667Z",
     "shell.execute_reply": "2022-12-21T23:40:02.205152Z"
    },
    "papermill": {
     "duration": 0.035785,
     "end_time": "2022-12-21T23:40:02.209470",
     "exception": false,
     "start_time": "2022-12-21T23:40:02.173685",
     "status": "completed"
    },
    "tags": []
   },
   "outputs": [],
   "source": [
    "test_df.isna().sum()"
   ]
  },
  {
   "cell_type": "markdown",
   "id": "99cf6aea",
   "metadata": {
    "execution": {
     "iopub.execute_input": "2022-12-21T23:06:42.906009Z",
     "iopub.status.busy": "2022-12-21T23:06:42.905643Z",
     "iopub.status.idle": "2022-12-21T23:06:42.914517Z",
     "shell.execute_reply": "2022-12-21T23:06:42.912606Z",
     "shell.execute_reply.started": "2022-12-21T23:06:42.905979Z"
    },
    "papermill": {
     "duration": 0.021918,
     "end_time": "2022-12-21T23:40:02.254011",
     "exception": false,
     "start_time": "2022-12-21T23:40:02.232093",
     "status": "completed"
    },
    "tags": []
   },
   "source": [
    "There are some missing data on the Age and Cabin column. I will try to fill in the Age column with reference of other columns(Cabin is non-numeric columns with too many missing data, it's hard to fill in the missing data of the column)\n",
    "\n",
    "Let's find out which column has high correlation with the Age column."
   ]
  },
  {
   "cell_type": "code",
   "execution_count": null,
   "id": "15e4c5a3",
   "metadata": {
    "execution": {
     "iopub.execute_input": "2022-12-21T23:40:02.301166Z",
     "iopub.status.busy": "2022-12-21T23:40:02.300705Z",
     "iopub.status.idle": "2022-12-21T23:40:02.310321Z",
     "shell.execute_reply": "2022-12-21T23:40:02.308864Z"
    },
    "papermill": {
     "duration": 0.035811,
     "end_time": "2022-12-21T23:40:02.313062",
     "exception": false,
     "start_time": "2022-12-21T23:40:02.277251",
     "status": "completed"
    },
    "tags": []
   },
   "outputs": [],
   "source": [
    "numerics = ['uint8','int16', 'int32', 'int64', 'float16', 'float32', 'float64']\n",
    "\n",
    "# select numeric columns only\n",
    "X_age = train_df.select_dtypes(include=numerics).drop('Age',axis=1)\n",
    "y_age = train_df['Age']"
   ]
  },
  {
   "cell_type": "code",
   "execution_count": null,
   "id": "e87f2def",
   "metadata": {
    "execution": {
     "iopub.execute_input": "2022-12-21T23:40:02.360400Z",
     "iopub.status.busy": "2022-12-21T23:40:02.359913Z",
     "iopub.status.idle": "2022-12-21T23:40:05.042876Z",
     "shell.execute_reply": "2022-12-21T23:40:05.041804Z"
    },
    "papermill": {
     "duration": 2.71015,
     "end_time": "2022-12-21T23:40:05.046654",
     "exception": false,
     "start_time": "2022-12-21T23:40:02.336504",
     "status": "completed"
    },
    "tags": []
   },
   "outputs": [],
   "source": [
    "plt.subplots(7,2, figsize=(20,50))\n",
    "\n",
    "count = 1\n",
    "\n",
    "for col in X_age.columns:\n",
    "    plt.subplot(7,2,count)\n",
    "    plt.scatter(X_age[col],y_age)\n",
    "    plt.title(col)\n",
    "    \n",
    "    count += 1\n",
    "    \n",
    "plt.tight_layout()\n",
    "plt.show()"
   ]
  },
  {
   "cell_type": "markdown",
   "id": "09c2a0cd",
   "metadata": {
    "papermill": {
     "duration": 0.024972,
     "end_time": "2022-12-21T23:40:05.097046",
     "exception": false,
     "start_time": "2022-12-21T23:40:05.072074",
     "status": "completed"
    },
    "tags": []
   },
   "source": [
    "Seems like the Sibsp has some relationship with the age and all other columns do not have a visible relationship with the Age column, but the Sibsp only has a decrease in the maximum number of siblings / spouses aboard the Titanic and it is not a good reference to fill in the missing columns for the Age column. In this case, the Age column will be dropped before modeling"
   ]
  },
  {
   "cell_type": "code",
   "execution_count": null,
   "id": "3211a460",
   "metadata": {
    "execution": {
     "iopub.execute_input": "2022-12-21T23:40:05.149876Z",
     "iopub.status.busy": "2022-12-21T23:40:05.148548Z",
     "iopub.status.idle": "2022-12-21T23:40:05.156718Z",
     "shell.execute_reply": "2022-12-21T23:40:05.155761Z"
    },
    "papermill": {
     "duration": 0.037086,
     "end_time": "2022-12-21T23:40:05.159322",
     "exception": false,
     "start_time": "2022-12-21T23:40:05.122236",
     "status": "completed"
    },
    "tags": []
   },
   "outputs": [],
   "source": [
    "train_df.drop('Age',axis=1,inplace=True)\n",
    "test_df.drop('Age',axis=1,inplace=True)"
   ]
  },
  {
   "cell_type": "markdown",
   "id": "fa88d715",
   "metadata": {
    "papermill": {
     "duration": 0.02478,
     "end_time": "2022-12-21T23:40:05.209093",
     "exception": false,
     "start_time": "2022-12-21T23:40:05.184313",
     "status": "completed"
    },
    "tags": []
   },
   "source": [
    "### Modeling\n",
    "\n",
    "Before modeling, we need to drop the non-numeric columns and some columns to minimize the multicollinearity."
   ]
  },
  {
   "cell_type": "code",
   "execution_count": null,
   "id": "cb1c193a",
   "metadata": {
    "execution": {
     "iopub.execute_input": "2022-12-21T23:40:05.261723Z",
     "iopub.status.busy": "2022-12-21T23:40:05.260891Z",
     "iopub.status.idle": "2022-12-21T23:40:05.269000Z",
     "shell.execute_reply": "2022-12-21T23:40:05.268037Z"
    },
    "papermill": {
     "duration": 0.037624,
     "end_time": "2022-12-21T23:40:05.271598",
     "exception": false,
     "start_time": "2022-12-21T23:40:05.233974",
     "status": "completed"
    },
    "tags": []
   },
   "outputs": [],
   "source": [
    "# drop non-numeric columns\n",
    "train_df.drop(['Name', 'Ticket','Cabin'],axis=1,inplace=True)\n",
    "test_df.drop(['Name', 'Ticket','Cabin'],axis=1,inplace=True)"
   ]
  },
  {
   "cell_type": "code",
   "execution_count": null,
   "id": "28a32ff1",
   "metadata": {
    "execution": {
     "iopub.execute_input": "2022-12-21T23:40:05.322555Z",
     "iopub.status.busy": "2022-12-21T23:40:05.321708Z",
     "iopub.status.idle": "2022-12-21T23:40:05.329596Z",
     "shell.execute_reply": "2022-12-21T23:40:05.328530Z"
    },
    "papermill": {
     "duration": 0.036116,
     "end_time": "2022-12-21T23:40:05.332139",
     "exception": false,
     "start_time": "2022-12-21T23:40:05.296023",
     "status": "completed"
    },
    "tags": []
   },
   "outputs": [],
   "source": [
    "# drop the columns that were already turned to dummy variables\n",
    "train_df.drop(['Pclass','Embarked'], axis=1, inplace=True)\n",
    "test_df.drop(['Pclass','Embarked'], axis=1, inplace=True)"
   ]
  },
  {
   "cell_type": "code",
   "execution_count": null,
   "id": "1411431c",
   "metadata": {
    "execution": {
     "iopub.execute_input": "2022-12-21T23:40:05.383017Z",
     "iopub.status.busy": "2022-12-21T23:40:05.382538Z",
     "iopub.status.idle": "2022-12-21T23:40:05.391758Z",
     "shell.execute_reply": "2022-12-21T23:40:05.390161Z"
    },
    "papermill": {
     "duration": 0.038281,
     "end_time": "2022-12-21T23:40:05.394398",
     "exception": false,
     "start_time": "2022-12-21T23:40:05.356117",
     "status": "completed"
    },
    "tags": []
   },
   "outputs": [],
   "source": [
    "# drop 1 column from each type of dummy variables\n",
    "train_df.drop([2,'N'],axis=1, inplace=True)\n",
    "test_df.drop([2],axis=1, inplace=True)"
   ]
  },
  {
   "cell_type": "code",
   "execution_count": null,
   "id": "030fca8f",
   "metadata": {
    "execution": {
     "iopub.execute_input": "2022-12-21T23:40:05.444920Z",
     "iopub.status.busy": "2022-12-21T23:40:05.444426Z",
     "iopub.status.idle": "2022-12-21T23:40:05.459239Z",
     "shell.execute_reply": "2022-12-21T23:40:05.457951Z"
    },
    "papermill": {
     "duration": 0.042919,
     "end_time": "2022-12-21T23:40:05.461582",
     "exception": false,
     "start_time": "2022-12-21T23:40:05.418663",
     "status": "completed"
    },
    "tags": []
   },
   "outputs": [],
   "source": [
    "train_df.head()"
   ]
  },
  {
   "cell_type": "code",
   "execution_count": null,
   "id": "ccedaaf8",
   "metadata": {
    "execution": {
     "iopub.execute_input": "2022-12-21T23:40:05.513835Z",
     "iopub.status.busy": "2022-12-21T23:40:05.513055Z",
     "iopub.status.idle": "2022-12-21T23:40:05.526450Z",
     "shell.execute_reply": "2022-12-21T23:40:05.525484Z"
    },
    "papermill": {
     "duration": 0.04206,
     "end_time": "2022-12-21T23:40:05.528884",
     "exception": false,
     "start_time": "2022-12-21T23:40:05.486824",
     "status": "completed"
    },
    "tags": []
   },
   "outputs": [],
   "source": [
    "test_df.head()"
   ]
  },
  {
   "cell_type": "code",
   "execution_count": null,
   "id": "1d9260e2",
   "metadata": {
    "execution": {
     "iopub.execute_input": "2022-12-21T23:40:05.581311Z",
     "iopub.status.busy": "2022-12-21T23:40:05.580599Z",
     "iopub.status.idle": "2022-12-21T23:40:05.587374Z",
     "shell.execute_reply": "2022-12-21T23:40:05.586228Z"
    },
    "papermill": {
     "duration": 0.03599,
     "end_time": "2022-12-21T23:40:05.589842",
     "exception": false,
     "start_time": "2022-12-21T23:40:05.553852",
     "status": "completed"
    },
    "tags": []
   },
   "outputs": [],
   "source": [
    "X = train_df.drop('Survived',axis=1)\n",
    "y = train_df['Survived']\n",
    "X_test = test_df\n",
    "y_test = result_df['Survived']"
   ]
  },
  {
   "cell_type": "code",
   "execution_count": null,
   "id": "aad08502",
   "metadata": {
    "execution": {
     "iopub.execute_input": "2022-12-21T23:40:05.641337Z",
     "iopub.status.busy": "2022-12-21T23:40:05.640899Z",
     "iopub.status.idle": "2022-12-21T23:40:06.226988Z",
     "shell.execute_reply": "2022-12-21T23:40:06.225479Z"
    },
    "papermill": {
     "duration": 0.615513,
     "end_time": "2022-12-21T23:40:06.230146",
     "exception": false,
     "start_time": "2022-12-21T23:40:05.614633",
     "status": "completed"
    },
    "tags": []
   },
   "outputs": [],
   "source": [
    "# Correlation of the variables in a heatmap\n",
    "plt.figure(figsize=(30,20))\n",
    "matrix = np.triu(X.corr())\n",
    "sns.heatmap(X.corr(), mask=matrix, cmap='coolwarm', vmin = -1, vmax = 1, annot = True)\n",
    "plt.show()"
   ]
  },
  {
   "cell_type": "markdown",
   "id": "a735806e",
   "metadata": {
    "execution": {
     "iopub.execute_input": "2022-12-21T23:08:43.470586Z",
     "iopub.status.busy": "2022-12-21T23:08:43.469564Z",
     "iopub.status.idle": "2022-12-21T23:08:43.478920Z",
     "shell.execute_reply": "2022-12-21T23:08:43.477319Z",
     "shell.execute_reply.started": "2022-12-21T23:08:43.470545Z"
    },
    "papermill": {
     "duration": 0.028768,
     "end_time": "2022-12-21T23:40:06.286384",
     "exception": false,
     "start_time": "2022-12-21T23:40:06.257616",
     "status": "completed"
    },
    "tags": []
   },
   "source": [
    "There are some columns have high positive/negative correlations, such as \n",
    "- First class and fare(positive)\n",
    "- Third class and fare(negative)\n",
    "- First class and third class(negative)\n",
    "- Embarked at S and embarked at C(negative)\n",
    "- Embarked at S and embarked at Q(negative)"
   ]
  },
  {
   "cell_type": "code",
   "execution_count": null,
   "id": "d3b8f214",
   "metadata": {
    "execution": {
     "iopub.execute_input": "2022-12-21T23:40:06.343239Z",
     "iopub.status.busy": "2022-12-21T23:40:06.342842Z",
     "iopub.status.idle": "2022-12-21T23:40:06.570661Z",
     "shell.execute_reply": "2022-12-21T23:40:06.569339Z"
    },
    "papermill": {
     "duration": 0.259236,
     "end_time": "2022-12-21T23:40:06.573504",
     "exception": false,
     "start_time": "2022-12-21T23:40:06.314268",
     "status": "completed"
    },
    "tags": []
   },
   "outputs": [],
   "source": [
    "from sklearn.model_selection import train_test_split"
   ]
  },
  {
   "cell_type": "code",
   "execution_count": null,
   "id": "32493463",
   "metadata": {
    "execution": {
     "iopub.execute_input": "2022-12-21T23:40:06.628632Z",
     "iopub.status.busy": "2022-12-21T23:40:06.628214Z",
     "iopub.status.idle": "2022-12-21T23:40:06.636335Z",
     "shell.execute_reply": "2022-12-21T23:40:06.635204Z"
    },
    "papermill": {
     "duration": 0.038443,
     "end_time": "2022-12-21T23:40:06.638672",
     "exception": false,
     "start_time": "2022-12-21T23:40:06.600229",
     "status": "completed"
    },
    "tags": []
   },
   "outputs": [],
   "source": [
    "# split the train dat to train and validation datasets\n",
    "X_train, X_validation, y_train, y_validation = train_test_split(X, y, test_size=0.2, random_state=1)"
   ]
  },
  {
   "cell_type": "code",
   "execution_count": null,
   "id": "99151d77",
   "metadata": {
    "execution": {
     "iopub.execute_input": "2022-12-21T23:40:06.692179Z",
     "iopub.status.busy": "2022-12-21T23:40:06.691719Z",
     "iopub.status.idle": "2022-12-21T23:40:06.827954Z",
     "shell.execute_reply": "2022-12-21T23:40:06.826392Z"
    },
    "papermill": {
     "duration": 0.166827,
     "end_time": "2022-12-21T23:40:06.831042",
     "exception": false,
     "start_time": "2022-12-21T23:40:06.664215",
     "status": "completed"
    },
    "tags": []
   },
   "outputs": [],
   "source": [
    "from sklearn.linear_model import LogisticRegression\n",
    "\n",
    "lin_model = LogisticRegression()\n",
    "\n",
    "lin_model.fit(X_train,y_train)\n",
    "\n",
    "print(f\"Train: {lin_model.score(X_train,y_train)}\")\n",
    "print(f\"Validation: {lin_model.score(X_validation,y_validation)}\")"
   ]
  },
  {
   "cell_type": "markdown",
   "id": "3e477d67",
   "metadata": {
    "papermill": {
     "duration": 0.025798,
     "end_time": "2022-12-21T23:40:06.883290",
     "exception": false,
     "start_time": "2022-12-21T23:40:06.857492",
     "status": "completed"
    },
    "tags": []
   },
   "source": [
    "The overfitting problem seems not serious in the model, we can try to score the test set to see the accuracy of the model. I will try to remove some columns that have high correlations with other columns(Fare and S) to see the acucracy."
   ]
  },
  {
   "cell_type": "code",
   "execution_count": null,
   "id": "efccf236",
   "metadata": {
    "execution": {
     "iopub.execute_input": "2022-12-21T23:40:06.940254Z",
     "iopub.status.busy": "2022-12-21T23:40:06.939850Z",
     "iopub.status.idle": "2022-12-21T23:40:06.948532Z",
     "shell.execute_reply": "2022-12-21T23:40:06.946896Z"
    },
    "papermill": {
     "duration": 0.039709,
     "end_time": "2022-12-21T23:40:06.951334",
     "exception": false,
     "start_time": "2022-12-21T23:40:06.911625",
     "status": "completed"
    },
    "tags": []
   },
   "outputs": [],
   "source": [
    "X_2 = train_df.drop(['Survived','Fare', 'S'],axis=1)\n",
    "y = train_df['Survived']\n",
    "X_test_2 = test_df.drop(['Fare', 'S'],axis=1)"
   ]
  },
  {
   "cell_type": "code",
   "execution_count": null,
   "id": "63999d90",
   "metadata": {
    "execution": {
     "iopub.execute_input": "2022-12-21T23:40:07.005403Z",
     "iopub.status.busy": "2022-12-21T23:40:07.004922Z",
     "iopub.status.idle": "2022-12-21T23:40:07.030250Z",
     "shell.execute_reply": "2022-12-21T23:40:07.028771Z"
    },
    "papermill": {
     "duration": 0.055724,
     "end_time": "2022-12-21T23:40:07.033711",
     "exception": false,
     "start_time": "2022-12-21T23:40:06.977987",
     "status": "completed"
    },
    "tags": []
   },
   "outputs": [],
   "source": [
    "X_train_2, X_validation_2, y_train_2, y_validation_2 = train_test_split(X_2, y, test_size=0.2, random_state=1)\n",
    "\n",
    "lin_model_2 = LogisticRegression()\n",
    "\n",
    "lin_model_2.fit(X_train_2,y_train_2)\n",
    "\n",
    "print(f\"Train: {lin_model_2.score(X_train_2,y_train)}\")\n",
    "print(f\"Validation: {lin_model_2.score(X_validation_2,y_validation)}\")"
   ]
  },
  {
   "cell_type": "markdown",
   "id": "dd07ee94",
   "metadata": {
    "papermill": {
     "duration": 0.025135,
     "end_time": "2022-12-21T23:40:07.085138",
     "exception": false,
     "start_time": "2022-12-21T23:40:07.060003",
     "status": "completed"
    },
    "tags": []
   },
   "source": [
    "The model accuracy slightly drops. I will build a model with all numeric to see the accuracy of the test set."
   ]
  },
  {
   "cell_type": "code",
   "execution_count": null,
   "id": "0f0d92b7",
   "metadata": {
    "execution": {
     "iopub.execute_input": "2022-12-21T23:40:07.138774Z",
     "iopub.status.busy": "2022-12-21T23:40:07.138385Z",
     "iopub.status.idle": "2022-12-21T23:40:07.181255Z",
     "shell.execute_reply": "2022-12-21T23:40:07.179807Z"
    },
    "papermill": {
     "duration": 0.073354,
     "end_time": "2022-12-21T23:40:07.184033",
     "exception": false,
     "start_time": "2022-12-21T23:40:07.110679",
     "status": "completed"
    },
    "tags": []
   },
   "outputs": [],
   "source": [
    "lin_model = LogisticRegression()\n",
    "\n",
    "lin_model.fit(X,y)\n",
    "\n",
    "print(lin_model.score(X,y))"
   ]
  },
  {
   "cell_type": "markdown",
   "id": "0d5f0dbf",
   "metadata": {
    "papermill": {
     "duration": 0.027643,
     "end_time": "2022-12-21T23:40:07.237930",
     "exception": false,
     "start_time": "2022-12-21T23:40:07.210287",
     "status": "completed"
    },
    "tags": []
   },
   "source": [
    "The accuracy is 0.799 for the logistic regression model, it is quite high with a such basic model. I will try to build a decision tree classifier to see if this prooblem still exist."
   ]
  },
  {
   "cell_type": "code",
   "execution_count": null,
   "id": "29168925",
   "metadata": {
    "execution": {
     "iopub.execute_input": "2022-12-21T23:40:07.292410Z",
     "iopub.status.busy": "2022-12-21T23:40:07.291984Z",
     "iopub.status.idle": "2022-12-21T23:40:07.395687Z",
     "shell.execute_reply": "2022-12-21T23:40:07.394268Z"
    },
    "papermill": {
     "duration": 0.133677,
     "end_time": "2022-12-21T23:40:07.398164",
     "exception": false,
     "start_time": "2022-12-21T23:40:07.264487",
     "status": "completed"
    },
    "tags": []
   },
   "outputs": [],
   "source": [
    "from sklearn.tree import DecisionTreeClassifier\n",
    "\n",
    "X_train, X_validation, y_train, y_validation = train_test_split(X, y, test_size=0.2, random_state=1)\n",
    "\n",
    "tree_model = DecisionTreeClassifier(random_state=1)\n",
    "\n",
    "tree_model.fit(X_train,y_train)\n",
    "\n",
    "print(f\"Train: {tree_model.score(X_train,y_train)}\")\n",
    "print(f\"Validation: {tree_model.score(X_validation,y_validation)}\")"
   ]
  },
  {
   "cell_type": "markdown",
   "id": "3d841467",
   "metadata": {
    "execution": {
     "iopub.execute_input": "2022-12-21T23:10:22.407559Z",
     "iopub.status.busy": "2022-12-21T23:10:22.407192Z",
     "iopub.status.idle": "2022-12-21T23:10:22.413740Z",
     "shell.execute_reply": "2022-12-21T23:10:22.412356Z",
     "shell.execute_reply.started": "2022-12-21T23:10:22.407534Z"
    },
    "papermill": {
     "duration": 0.025222,
     "end_time": "2022-12-21T23:40:07.449738",
     "exception": false,
     "start_time": "2022-12-21T23:40:07.424516",
     "status": "completed"
    },
    "tags": []
   },
   "source": [
    "The decision tree classifier seems have overfitting problem, I will try to final out the optimal max_depth to minimize the overfitting problem."
   ]
  },
  {
   "cell_type": "code",
   "execution_count": null,
   "id": "c93b13e4",
   "metadata": {
    "execution": {
     "iopub.execute_input": "2022-12-21T23:40:07.503035Z",
     "iopub.status.busy": "2022-12-21T23:40:07.502619Z",
     "iopub.status.idle": "2022-12-21T23:40:07.570488Z",
     "shell.execute_reply": "2022-12-21T23:40:07.569485Z"
    },
    "papermill": {
     "duration": 0.097488,
     "end_time": "2022-12-21T23:40:07.573130",
     "exception": false,
     "start_time": "2022-12-21T23:40:07.475642",
     "status": "completed"
    },
    "tags": []
   },
   "outputs": [],
   "source": [
    "# build two lists to record the accuracy scores for train and validation\n",
    "tree_train = []\n",
    "tree_validation = []\n",
    "\n",
    "tree_depth = range(1,11)\n",
    "\n",
    "# write a for loop to get tha accuracy scores of the model on different max_depth\n",
    "for depth in tree_depth:\n",
    "    tree_model = DecisionTreeClassifier(max_depth= depth, random_state= 1)\n",
    "    \n",
    "    tree_model.fit(X_train, y_train)\n",
    "    \n",
    "    tree_train.append(tree_model.score(X_train, y_train))\n",
    "    tree_validation.append(tree_model.score(X_validation, y_validation))"
   ]
  },
  {
   "cell_type": "code",
   "execution_count": null,
   "id": "7b8e2b55",
   "metadata": {
    "execution": {
     "iopub.execute_input": "2022-12-21T23:40:07.628316Z",
     "iopub.status.busy": "2022-12-21T23:40:07.627289Z",
     "iopub.status.idle": "2022-12-21T23:40:07.909115Z",
     "shell.execute_reply": "2022-12-21T23:40:07.907777Z"
    },
    "papermill": {
     "duration": 0.312084,
     "end_time": "2022-12-21T23:40:07.911783",
     "exception": false,
     "start_time": "2022-12-21T23:40:07.599699",
     "status": "completed"
    },
    "tags": []
   },
   "outputs": [],
   "source": [
    "# visualize the accuracy with different max_depth\n",
    "plt.figure(figsize=(15,10))\n",
    "plt.plot(tree_depth,tree_train,label = 'train')\n",
    "plt.plot(tree_depth,tree_validation,label = 'validation')\n",
    "plt.xticks(tree_depth, fontsize=15)\n",
    "plt.xlabel(\"max depth\", fontsize = 15)\n",
    "plt.ylabel(\"Accuracy\", fontsize = 15)\n",
    "plt.title(\"Model accuracy vs. max_depth\", fontsize= 25)\n",
    "plt.yticks(fontsize=15)\n",
    "plt.legend()\n",
    "plt.show()"
   ]
  },
  {
   "cell_type": "markdown",
   "id": "7705c439",
   "metadata": {
    "papermill": {
     "duration": 0.027266,
     "end_time": "2022-12-21T23:40:07.966157",
     "exception": false,
     "start_time": "2022-12-21T23:40:07.938891",
     "status": "completed"
    },
    "tags": []
   },
   "source": [
    "Seems the model is less overfitting when the max_depth is lower than 4. I will try to build the model with max_depth = 3."
   ]
  },
  {
   "cell_type": "code",
   "execution_count": null,
   "id": "9e1124af",
   "metadata": {
    "execution": {
     "iopub.execute_input": "2022-12-21T23:40:08.023427Z",
     "iopub.status.busy": "2022-12-21T23:40:08.022433Z",
     "iopub.status.idle": "2022-12-21T23:40:08.033838Z",
     "shell.execute_reply": "2022-12-21T23:40:08.032763Z"
    },
    "papermill": {
     "duration": 0.042367,
     "end_time": "2022-12-21T23:40:08.036210",
     "exception": false,
     "start_time": "2022-12-21T23:40:07.993843",
     "status": "completed"
    },
    "tags": []
   },
   "outputs": [],
   "source": [
    "tree_model = DecisionTreeClassifier(random_state=1,max_depth=3)\n",
    "\n",
    "tree_model.fit(X,y)\n",
    "\n",
    "print(f\"Train: {tree_model.score(X,y)}\")"
   ]
  },
  {
   "cell_type": "markdown",
   "id": "3d2a526f",
   "metadata": {
    "execution": {
     "iopub.execute_input": "2022-12-21T23:11:16.032689Z",
     "iopub.status.busy": "2022-12-21T23:11:16.032286Z",
     "iopub.status.idle": "2022-12-21T23:11:16.040683Z",
     "shell.execute_reply": "2022-12-21T23:11:16.038996Z",
     "shell.execute_reply.started": "2022-12-21T23:11:16.032651Z"
    },
    "papermill": {
     "duration": 0.026874,
     "end_time": "2022-12-21T23:40:08.089941",
     "exception": false,
     "start_time": "2022-12-21T23:40:08.063067",
     "status": "completed"
    },
    "tags": []
   },
   "source": [
    "The decision tree classifier model predicts better than logistic regression on the test set, I will submit thre result of the competition."
   ]
  },
  {
   "cell_type": "code",
   "execution_count": null,
   "id": "538db836",
   "metadata": {
    "execution": {
     "iopub.execute_input": "2022-12-21T23:40:08.147181Z",
     "iopub.status.busy": "2022-12-21T23:40:08.146725Z",
     "iopub.status.idle": "2022-12-21T23:40:08.154320Z",
     "shell.execute_reply": "2022-12-21T23:40:08.153370Z"
    },
    "papermill": {
     "duration": 0.039479,
     "end_time": "2022-12-21T23:40:08.156557",
     "exception": false,
     "start_time": "2022-12-21T23:40:08.117078",
     "status": "completed"
    },
    "tags": []
   },
   "outputs": [],
   "source": [
    "test_df['Survived'] = tree_model.predict(X_test)"
   ]
  },
  {
   "cell_type": "code",
   "execution_count": null,
   "id": "46de017a",
   "metadata": {
    "execution": {
     "iopub.execute_input": "2022-12-21T23:40:08.214078Z",
     "iopub.status.busy": "2022-12-21T23:40:08.213634Z",
     "iopub.status.idle": "2022-12-21T23:40:08.222687Z",
     "shell.execute_reply": "2022-12-21T23:40:08.221631Z"
    },
    "papermill": {
     "duration": 0.041453,
     "end_time": "2022-12-21T23:40:08.225188",
     "exception": false,
     "start_time": "2022-12-21T23:40:08.183735",
     "status": "completed"
    },
    "tags": []
   },
   "outputs": [],
   "source": [
    "test_df['Survived'].to_csv('data/Submission.csv')"
   ]
  }
 ],
 "metadata": {
  "kernelspec": {
   "display_name": "Python 3 (ipykernel)",
   "language": "python",
   "name": "python3"
  },
  "language_info": {
   "codemirror_mode": {
    "name": "ipython",
    "version": 3
   },
   "file_extension": ".py",
   "mimetype": "text/x-python",
   "name": "python",
   "nbconvert_exporter": "python",
   "pygments_lexer": "ipython3",
   "version": "3.9.13"
  },
  "papermill": {
   "default_parameters": {},
   "duration": 22.631633,
   "end_time": "2022-12-21T23:40:09.076967",
   "environment_variables": {},
   "exception": null,
   "input_path": "__notebook__.ipynb",
   "output_path": "__notebook__.ipynb",
   "parameters": {},
   "start_time": "2022-12-21T23:39:46.445334",
   "version": "2.3.4"
  }
 },
 "nbformat": 4,
 "nbformat_minor": 5
}
